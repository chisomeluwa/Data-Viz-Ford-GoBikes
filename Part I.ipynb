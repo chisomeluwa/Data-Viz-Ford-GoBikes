{
 "cells": [
  {
   "cell_type": "markdown",
   "metadata": {},
   "source": [
    "## Ford GoBike Exploration\n",
    "\n",
    "\n",
    "### By Chisom Eluwa\n"
   ]
  },
  {
   "cell_type": "markdown",
   "metadata": {},
   "source": [
    "### Introduction\n",
    "\n",
    "This document explores a dataset containing information about individual rides made in a bike-sharing system covering the greater San Francisco Bay area."
   ]
  },
  {
   "cell_type": "code",
   "execution_count": 1,
   "metadata": {},
   "outputs": [],
   "source": [
    "# import libraries\n",
    "import pandas as pd\n",
    "import numpy as np\n",
    "import matplotlib.pyplot as plt\n",
    "import seaborn as sns"
   ]
  },
  {
   "cell_type": "code",
   "execution_count": 2,
   "metadata": {
    "collapsed": true
   },
   "outputs": [
    {
     "name": "stdout",
     "output_type": "stream",
     "text": [
      "Collecting seaborn\n",
      "\u001b[?25l  Downloading https://files.pythonhosted.org/packages/10/5b/0479d7d845b5ba410ca702ffcd7f2cd95a14a4dfff1fde2637802b258b9b/seaborn-0.11.2-py3-none-any.whl (292kB)\n",
      "\u001b[K    100% |████████████████████████████████| 296kB 7.2MB/s ta 0:00:011\n",
      "\u001b[?25hCollecting numpy>=1.15 (from seaborn)\n",
      "\u001b[?25l  Downloading https://files.pythonhosted.org/packages/45/b2/6c7545bb7a38754d63048c7696804a0d947328125d81bf12beaa692c3ae3/numpy-1.19.5-cp36-cp36m-manylinux1_x86_64.whl (13.4MB)\n",
      "\u001b[K    100% |████████████████████████████████| 13.4MB 3.1MB/s eta 0:00:01  8% |██▋                             | 1.1MB 29.0MB/s eta 0:00:01    97% |███████████████████████████████▏| 13.0MB 28.1MB/s eta 0:00:01\n",
      "\u001b[?25hCollecting matplotlib>=2.2 (from seaborn)\n",
      "\u001b[?25l  Downloading https://files.pythonhosted.org/packages/09/03/b7b30fa81cb687d1178e085d0f01111ceaea3bf81f9330c937fb6f6c8ca0/matplotlib-3.3.4-cp36-cp36m-manylinux1_x86_64.whl (11.5MB)\n",
      "\u001b[K    100% |████████████████████████████████| 11.5MB 3.7MB/s eta 0:00:01  3% |█                               | 368kB 23.0MB/s eta 0:00:01    25% |████████▎                       | 3.0MB 27.0MB/s eta 0:00:01    48% |███████████████▋                | 5.6MB 26.9MB/s eta 0:00:01    60% |███████████████████▎            | 7.0MB 27.2MB/s eta 0:00:01\n",
      "\u001b[?25hRequirement already satisfied, skipping upgrade: pandas>=0.23 in /opt/conda/lib/python3.6/site-packages (from seaborn) (0.23.3)\n",
      "Requirement already satisfied, skipping upgrade: scipy>=1.0 in /opt/conda/lib/python3.6/site-packages (from seaborn) (1.2.1)\n",
      "Requirement already satisfied, skipping upgrade: cycler>=0.10 in /opt/conda/lib/python3.6/site-packages/cycler-0.10.0-py3.6.egg (from matplotlib>=2.2->seaborn) (0.10.0)\n",
      "Collecting pillow>=6.2.0 (from matplotlib>=2.2->seaborn)\n",
      "\u001b[?25l  Downloading https://files.pythonhosted.org/packages/7d/2a/2fc11b54e2742db06297f7fa7f420a0e3069fdcf0e4b57dfec33f0b08622/Pillow-8.4.0.tar.gz (49.4MB)\n",
      "\u001b[K    100% |████████████████████████████████| 49.4MB 817kB/s eta 0:00:01  1% |▍                               | 542kB 24.7MB/s eta 0:00:02    3% |█▏                              | 1.8MB 25.5MB/s eta 0:00:02    16% |█████▎                          | 8.1MB 23.4MB/s eta 0:00:02    18% |██████                          | 9.3MB 25.0MB/s eta 0:00:02    21% |██████▊                         | 10.5MB 23.5MB/s eta 0:00:02    46% |███████████████                 | 23.2MB 20.7MB/s eta 0:00:02    49% |███████████████▊                | 24.2MB 23.5MB/s eta 0:00:02    51% |████████████████▍               | 25.3MB 24.5MB/s eta 0:00:01    67% |█████████████████████▌          | 33.2MB 23.3MB/s eta 0:00:01    70% |██████████████████████▌         | 34.7MB 2.8MB/s eta 0:00:06    83% |██████████████████████████▋     | 41.0MB 23.4MB/s eta 0:00:01    89% |████████████████████████████▋   | 44.1MB 21.5MB/s eta 0:00:01    91% |█████████████████████████████▏  | 45.1MB 21.6MB/s eta 0:00:01\n",
      "\u001b[?25hRequirement already satisfied, skipping upgrade: python-dateutil>=2.1 in /opt/conda/lib/python3.6/site-packages (from matplotlib>=2.2->seaborn) (2.6.1)\n",
      "Requirement already satisfied, skipping upgrade: pyparsing!=2.0.4,!=2.1.2,!=2.1.6,>=2.0.3 in /opt/conda/lib/python3.6/site-packages (from matplotlib>=2.2->seaborn) (2.2.0)\n",
      "Collecting kiwisolver>=1.0.1 (from matplotlib>=2.2->seaborn)\n",
      "\u001b[?25l  Downloading https://files.pythonhosted.org/packages/a7/1b/cbd8ae738719b5f41592a12057ef5442e2ed5f5cb5451f8fc7e9f8875a1a/kiwisolver-1.3.1-cp36-cp36m-manylinux1_x86_64.whl (1.1MB)\n",
      "\u001b[K    100% |████████████████████████████████| 1.1MB 13.2MB/s ta 0:00:01\n",
      "\u001b[?25hRequirement already satisfied, skipping upgrade: pytz>=2011k in /opt/conda/lib/python3.6/site-packages (from pandas>=0.23->seaborn) (2017.3)\n",
      "Requirement already satisfied, skipping upgrade: six in /opt/conda/lib/python3.6/site-packages (from cycler>=0.10->matplotlib>=2.2->seaborn) (1.11.0)\n",
      "Building wheels for collected packages: pillow\n",
      "  Running setup.py bdist_wheel for pillow ... \u001b[?25ldone\n",
      "\u001b[?25h  Stored in directory: /root/.cache/pip/wheels/a7/69/9a/bba9fca6782340f88dbc378893095722a663cbc618e58fe401\n",
      "Successfully built pillow\n",
      "\u001b[31mtensorflow 1.3.0 requires tensorflow-tensorboard<0.2.0,>=0.1.0, which is not installed.\u001b[0m\n",
      "\u001b[31mscikit-image 0.14.2 has requirement dask[array]>=1.0.0, but you'll have dask 0.16.1 which is incompatible.\u001b[0m\n",
      "Installing collected packages: numpy, pillow, kiwisolver, matplotlib, seaborn\n",
      "  Found existing installation: numpy 1.12.1\n",
      "    Uninstalling numpy-1.12.1:\n",
      "      Successfully uninstalled numpy-1.12.1\n",
      "  Found existing installation: Pillow 5.2.0\n",
      "    Uninstalling Pillow-5.2.0:\n",
      "      Successfully uninstalled Pillow-5.2.0\n",
      "  Found existing installation: matplotlib 2.1.0\n",
      "    Uninstalling matplotlib-2.1.0:\n",
      "      Successfully uninstalled matplotlib-2.1.0\n",
      "  Found existing installation: seaborn 0.8.1\n",
      "    Uninstalling seaborn-0.8.1:\n",
      "      Successfully uninstalled seaborn-0.8.1\n",
      "Successfully installed kiwisolver-1.3.1 matplotlib-3.3.4 numpy-1.19.5 pillow-8.4.0 seaborn-0.11.2\n"
     ]
    }
   ],
   "source": [
    "!pip install seaborn --upgrade   #upgrade seaborn version"
   ]
  },
  {
   "cell_type": "code",
   "execution_count": 3,
   "metadata": {},
   "outputs": [],
   "source": [
    "# Load our data with pandas\n",
    "ford_bikes = pd.read_csv(\"201902-fordgobike-tripdata.csv\")"
   ]
  },
  {
   "cell_type": "code",
   "execution_count": 4,
   "metadata": {},
   "outputs": [
    {
     "name": "stdout",
     "output_type": "stream",
     "text": [
      "(183412, 16)\n",
      "duration_sec                 int64\n",
      "start_time                  object\n",
      "end_time                    object\n",
      "start_station_id           float64\n",
      "start_station_name          object\n",
      "start_station_latitude     float64\n",
      "start_station_longitude    float64\n",
      "end_station_id             float64\n",
      "end_station_name            object\n",
      "end_station_latitude       float64\n",
      "end_station_longitude      float64\n",
      "bike_id                      int64\n",
      "user_type                   object\n",
      "member_birth_year          float64\n",
      "member_gender               object\n",
      "bike_share_for_all_trip     object\n",
      "dtype: object\n",
      "   duration_sec                start_time                  end_time  \\\n",
      "0         52185  2019-02-28 17:32:10.1450  2019-03-01 08:01:55.9750   \n",
      "1         42521  2019-02-28 18:53:21.7890  2019-03-01 06:42:03.0560   \n",
      "2         61854  2019-02-28 12:13:13.2180  2019-03-01 05:24:08.1460   \n",
      "3         36490  2019-02-28 17:54:26.0100  2019-03-01 04:02:36.8420   \n",
      "4          1585  2019-02-28 23:54:18.5490  2019-03-01 00:20:44.0740   \n",
      "5          1793  2019-02-28 23:49:58.6320  2019-03-01 00:19:51.7600   \n",
      "6          1147  2019-02-28 23:55:35.1040  2019-03-01 00:14:42.5880   \n",
      "7          1615  2019-02-28 23:41:06.7660  2019-03-01 00:08:02.7560   \n",
      "8          1570  2019-02-28 23:41:48.7900  2019-03-01 00:07:59.7150   \n",
      "9          1049  2019-02-28 23:49:47.6990  2019-03-01 00:07:17.0250   \n",
      "\n",
      "   start_station_id                                start_station_name  \\\n",
      "0              21.0  Montgomery St BART Station (Market St at 2nd St)   \n",
      "1              23.0                     The Embarcadero at Steuart St   \n",
      "2              86.0                           Market St at Dolores St   \n",
      "3             375.0                           Grove St at Masonic Ave   \n",
      "4               7.0                               Frank H Ogawa Plaza   \n",
      "5              93.0                      4th St at Mission Bay Blvd S   \n",
      "6             300.0                              Palm St at Willow St   \n",
      "7              10.0                        Washington St at Kearny St   \n",
      "8              10.0                        Washington St at Kearny St   \n",
      "9              19.0                              Post St at Kearny St   \n",
      "\n",
      "   start_station_latitude  start_station_longitude  end_station_id  \\\n",
      "0               37.789625              -122.400811            13.0   \n",
      "1               37.791464              -122.391034            81.0   \n",
      "2               37.769305              -122.426826             3.0   \n",
      "3               37.774836              -122.446546            70.0   \n",
      "4               37.804562              -122.271738           222.0   \n",
      "5               37.770407              -122.391198           323.0   \n",
      "6               37.317298              -121.884995           312.0   \n",
      "7               37.795393              -122.404770           127.0   \n",
      "8               37.795393              -122.404770           127.0   \n",
      "9               37.788975              -122.403452           121.0   \n",
      "\n",
      "                               end_station_name  end_station_latitude  \\\n",
      "0                Commercial St at Montgomery St             37.794231   \n",
      "1                            Berry St at 4th St             37.775880   \n",
      "2  Powell St BART Station (Market St at 4th St)             37.786375   \n",
      "3                        Central Ave at Fell St             37.773311   \n",
      "4                         10th Ave at E 15th St             37.792714   \n",
      "5                            Broadway at Kearny             37.798014   \n",
      "6                      San Jose Diridon Station             37.329732   \n",
      "7                        Valencia St at 21st St             37.756708   \n",
      "8                        Valencia St at 21st St             37.756708   \n",
      "9                            Mission Playground             37.759210   \n",
      "\n",
      "   end_station_longitude  bike_id   user_type  member_birth_year  \\\n",
      "0            -122.402923     4902    Customer             1984.0   \n",
      "1            -122.393170     2535    Customer                NaN   \n",
      "2            -122.404904     5905    Customer             1972.0   \n",
      "3            -122.444293     6638  Subscriber             1989.0   \n",
      "4            -122.248780     4898  Subscriber             1974.0   \n",
      "5            -122.405950     5200  Subscriber             1959.0   \n",
      "6            -121.901782     3803  Subscriber             1983.0   \n",
      "7            -122.421025     6329  Subscriber             1989.0   \n",
      "8            -122.421025     6548  Subscriber             1988.0   \n",
      "9            -122.421339     6488  Subscriber             1992.0   \n",
      "\n",
      "  member_gender bike_share_for_all_trip  \n",
      "0          Male                      No  \n",
      "1           NaN                      No  \n",
      "2          Male                      No  \n",
      "3         Other                      No  \n",
      "4          Male                     Yes  \n",
      "5          Male                      No  \n",
      "6        Female                      No  \n",
      "7          Male                      No  \n",
      "8         Other                      No  \n",
      "9          Male                      No  \n"
     ]
    }
   ],
   "source": [
    "# High level data overview\n",
    "\n",
    "print(ford_bikes.shape)\n",
    "print(ford_bikes.dtypes)\n",
    "print(ford_bikes.head(10))"
   ]
  },
  {
   "cell_type": "code",
   "execution_count": 5,
   "metadata": {},
   "outputs": [
    {
     "name": "stdout",
     "output_type": "stream",
     "text": [
      "        duration_sec  start_station_id  start_station_latitude  \\\n",
      "count  183412.000000     183215.000000           183412.000000   \n",
      "mean      726.078435        138.590427               37.771223   \n",
      "std      1794.389780        111.778864                0.099581   \n",
      "min        61.000000          3.000000               37.317298   \n",
      "25%       325.000000         47.000000               37.770083   \n",
      "50%       514.000000        104.000000               37.780760   \n",
      "75%       796.000000        239.000000               37.797280   \n",
      "max     85444.000000        398.000000               37.880222   \n",
      "\n",
      "       start_station_longitude  end_station_id  end_station_latitude  \\\n",
      "count            183412.000000   183215.000000         183412.000000   \n",
      "mean               -122.352664      136.249123             37.771427   \n",
      "std                   0.117097      111.515131              0.099490   \n",
      "min                -122.453704        3.000000             37.317298   \n",
      "25%                -122.412408       44.000000             37.770407   \n",
      "50%                -122.398285      100.000000             37.781010   \n",
      "75%                -122.286533      235.000000             37.797320   \n",
      "max                -121.874119      398.000000             37.880222   \n",
      "\n",
      "       end_station_longitude        bike_id  member_birth_year  \n",
      "count          183412.000000  183412.000000      175147.000000  \n",
      "mean             -122.352250    4472.906375        1984.806437  \n",
      "std                 0.116673    1664.383394          10.116689  \n",
      "min              -122.453704      11.000000        1878.000000  \n",
      "25%              -122.411726    3777.000000        1980.000000  \n",
      "50%              -122.398279    4958.000000        1987.000000  \n",
      "75%              -122.288045    5502.000000        1992.000000  \n",
      "max              -121.874119    6645.000000        2001.000000  \n"
     ]
    }
   ],
   "source": [
    "# descriptive analysis\n",
    "print(ford_bikes.describe())"
   ]
  },
  {
   "cell_type": "markdown",
   "metadata": {},
   "source": [
    "## Insights in our data\n",
    "\n",
    " - Data contains 183412 rows, 16 columns\n",
    " \n",
    " ##### for data types of each column, we notice: \n",
    " \n",
    " \n",
    " - member_birth_year is float but should be object type\n",
    " - biker_id, end_station_id, start_station_id, are float type but should be object type\n",
    " \n"
   ]
  },
  {
   "cell_type": "code",
   "execution_count": 6,
   "metadata": {},
   "outputs": [
    {
     "data": {
      "text/plain": [
       "Index(['duration_sec', 'start_time', 'end_time', 'start_station_id',\n",
       "       'start_station_name', 'start_station_latitude',\n",
       "       'start_station_longitude', 'end_station_id', 'end_station_name',\n",
       "       'end_station_latitude', 'end_station_longitude', 'bike_id', 'user_type',\n",
       "       'member_birth_year', 'member_gender', 'bike_share_for_all_trip'],\n",
       "      dtype='object')"
      ]
     },
     "execution_count": 6,
     "metadata": {},
     "output_type": "execute_result"
    }
   ],
   "source": [
    "# Check column names\n",
    "ford_bikes.columns   "
   ]
  },
  {
   "cell_type": "code",
   "execution_count": 7,
   "metadata": {},
   "outputs": [
    {
     "data": {
      "text/html": [
       "<div>\n",
       "<style scoped>\n",
       "    .dataframe tbody tr th:only-of-type {\n",
       "        vertical-align: middle;\n",
       "    }\n",
       "\n",
       "    .dataframe tbody tr th {\n",
       "        vertical-align: top;\n",
       "    }\n",
       "\n",
       "    .dataframe thead th {\n",
       "        text-align: right;\n",
       "    }\n",
       "</style>\n",
       "<table border=\"1\" class=\"dataframe\">\n",
       "  <thead>\n",
       "    <tr style=\"text-align: right;\">\n",
       "      <th></th>\n",
       "      <th>duration_sec</th>\n",
       "      <th>start_time</th>\n",
       "      <th>end_time</th>\n",
       "      <th>start_station_id</th>\n",
       "      <th>start_station_name</th>\n",
       "      <th>start_station_latitude</th>\n",
       "      <th>start_station_longitude</th>\n",
       "      <th>end_station_id</th>\n",
       "      <th>end_station_name</th>\n",
       "      <th>end_station_latitude</th>\n",
       "      <th>end_station_longitude</th>\n",
       "      <th>bike_id</th>\n",
       "      <th>user_type</th>\n",
       "      <th>member_birth_year</th>\n",
       "      <th>member_gender</th>\n",
       "      <th>bike_share_for_all_trip</th>\n",
       "    </tr>\n",
       "  </thead>\n",
       "  <tbody>\n",
       "  </tbody>\n",
       "</table>\n",
       "</div>"
      ],
      "text/plain": [
       "Empty DataFrame\n",
       "Columns: [duration_sec, start_time, end_time, start_station_id, start_station_name, start_station_latitude, start_station_longitude, end_station_id, end_station_name, end_station_latitude, end_station_longitude, bike_id, user_type, member_birth_year, member_gender, bike_share_for_all_trip]\n",
       "Index: []"
      ]
     },
     "execution_count": 7,
     "metadata": {},
     "output_type": "execute_result"
    }
   ],
   "source": [
    "# Check for possible duplicates\n",
    "ford_bikes.loc[ford_bikes.duplicated(keep=False), :] "
   ]
  },
  {
   "cell_type": "markdown",
   "metadata": {},
   "source": [
    "## Cleaning process"
   ]
  },
  {
   "cell_type": "markdown",
   "metadata": {},
   "source": [
    "## Define\n",
    "\n",
    "#### 1) check and drop the rows with missing data"
   ]
  },
  {
   "cell_type": "markdown",
   "metadata": {},
   "source": [
    "#### Code"
   ]
  },
  {
   "cell_type": "code",
   "execution_count": 8,
   "metadata": {},
   "outputs": [
    {
     "data": {
      "text/plain": [
       "duration_sec                  0\n",
       "start_time                    0\n",
       "end_time                      0\n",
       "start_station_id            197\n",
       "start_station_name          197\n",
       "start_station_latitude        0\n",
       "start_station_longitude       0\n",
       "end_station_id              197\n",
       "end_station_name            197\n",
       "end_station_latitude          0\n",
       "end_station_longitude         0\n",
       "bike_id                       0\n",
       "user_type                     0\n",
       "member_birth_year          8265\n",
       "member_gender              8265\n",
       "bike_share_for_all_trip       0\n",
       "dtype: int64"
      ]
     },
     "execution_count": 8,
     "metadata": {},
     "output_type": "execute_result"
    }
   ],
   "source": [
    "ford_bikes.isnull().sum()"
   ]
  },
  {
   "cell_type": "code",
   "execution_count": 9,
   "metadata": {},
   "outputs": [],
   "source": [
    "# drop rows with missing data in the specific columns\n",
    "ford_bikes.dropna(axis=0, subset=['start_station_id', 'start_station_name', 'end_station_id', \n",
    "                                 'start_station_name', 'member_birth_year', 'member_gender'], inplace=True)"
   ]
  },
  {
   "cell_type": "markdown",
   "metadata": {},
   "source": [
    "#### Test"
   ]
  },
  {
   "cell_type": "code",
   "execution_count": 10,
   "metadata": {},
   "outputs": [
    {
     "data": {
      "text/plain": [
       "duration_sec               0\n",
       "start_time                 0\n",
       "end_time                   0\n",
       "start_station_id           0\n",
       "start_station_name         0\n",
       "start_station_latitude     0\n",
       "start_station_longitude    0\n",
       "end_station_id             0\n",
       "end_station_name           0\n",
       "end_station_latitude       0\n",
       "end_station_longitude      0\n",
       "bike_id                    0\n",
       "user_type                  0\n",
       "member_birth_year          0\n",
       "member_gender              0\n",
       "bike_share_for_all_trip    0\n",
       "dtype: int64"
      ]
     },
     "execution_count": 10,
     "metadata": {},
     "output_type": "execute_result"
    }
   ],
   "source": [
    "ford_bikes.isnull().sum()"
   ]
  },
  {
   "cell_type": "markdown",
   "metadata": {},
   "source": [
    "### 2) Incorrect Data types\n",
    "\n",
    "#### Define\n",
    "\n",
    "##### Change all columns with incorrect data types to the right data types"
   ]
  },
  {
   "cell_type": "markdown",
   "metadata": {},
   "source": [
    "#### Code"
   ]
  },
  {
   "cell_type": "code",
   "execution_count": 11,
   "metadata": {},
   "outputs": [],
   "source": [
    "ford_bikes = ford_bikes.astype({'start_station_id': str, 'end_station_id': str, 'bike_id': str, 'member_birth_year': int})"
   ]
  },
  {
   "cell_type": "code",
   "execution_count": 12,
   "metadata": {},
   "outputs": [],
   "source": [
    "# Change the time columns from object to datetime\n",
    "ford_bikes[['start_time','end_time']] = ford_bikes[['start_time','end_time']].apply(pd.to_datetime)"
   ]
  },
  {
   "cell_type": "markdown",
   "metadata": {},
   "source": [
    "#### Test"
   ]
  },
  {
   "cell_type": "code",
   "execution_count": 13,
   "metadata": {},
   "outputs": [
    {
     "name": "stdout",
     "output_type": "stream",
     "text": [
      "<class 'pandas.core.frame.DataFrame'>\n",
      "Int64Index: 174952 entries, 0 to 183411\n",
      "Data columns (total 16 columns):\n",
      "duration_sec               174952 non-null int64\n",
      "start_time                 174952 non-null datetime64[ns]\n",
      "end_time                   174952 non-null datetime64[ns]\n",
      "start_station_id           174952 non-null object\n",
      "start_station_name         174952 non-null object\n",
      "start_station_latitude     174952 non-null float64\n",
      "start_station_longitude    174952 non-null float64\n",
      "end_station_id             174952 non-null object\n",
      "end_station_name           174952 non-null object\n",
      "end_station_latitude       174952 non-null float64\n",
      "end_station_longitude      174952 non-null float64\n",
      "bike_id                    174952 non-null object\n",
      "user_type                  174952 non-null object\n",
      "member_birth_year          174952 non-null int64\n",
      "member_gender              174952 non-null object\n",
      "bike_share_for_all_trip    174952 non-null object\n",
      "dtypes: datetime64[ns](2), float64(4), int64(2), object(8)\n",
      "memory usage: 22.7+ MB\n"
     ]
    }
   ],
   "source": [
    "ford_bikes.info()"
   ]
  },
  {
   "cell_type": "markdown",
   "metadata": {},
   "source": [
    "### 3) Define: Split the start date and end time column into start_date, start_time, end_date, and end_time."
   ]
  },
  {
   "cell_type": "markdown",
   "metadata": {},
   "source": [
    "### Code"
   ]
  },
  {
   "cell_type": "code",
   "execution_count": 14,
   "metadata": {},
   "outputs": [],
   "source": [
    "### Further create a Day, month, hour category from the time and year column options\n",
    "\n",
    "ford_bikes['start_day'] = ford_bikes['start_time'].dt.day_name()\n",
    "ford_bikes['start_month'] = ford_bikes['start_time'].dt.month_name()\n",
    "\n",
    "# bike['start_year'] = bike['start_time'].dt.year\n",
    "ford_bikes['start_hour'] = ford_bikes['start_time'].dt.hour\n",
    "ford_bikes['start_hour'] = ford_bikes.start_hour.astype(str)\n",
    "\n",
    "\n",
    "ford_bikes['end_day'] = ford_bikes['end_time'].dt.day_name()\n",
    "ford_bikes['end_month'] = ford_bikes['end_time'].dt.month_name()\n",
    "ford_bikes['end_hour'] = ford_bikes['end_time'].dt.hour\n",
    "ford_bikes['end_hour'] = ford_bikes.end_hour.astype(str)\n"
   ]
  },
  {
   "cell_type": "markdown",
   "metadata": {},
   "source": [
    "### Test"
   ]
  },
  {
   "cell_type": "code",
   "execution_count": 15,
   "metadata": {
    "scrolled": true
   },
   "outputs": [
    {
     "data": {
      "text/plain": [
       "Index(['duration_sec', 'start_time', 'end_time', 'start_station_id',\n",
       "       'start_station_name', 'start_station_latitude',\n",
       "       'start_station_longitude', 'end_station_id', 'end_station_name',\n",
       "       'end_station_latitude', 'end_station_longitude', 'bike_id', 'user_type',\n",
       "       'member_birth_year', 'member_gender', 'bike_share_for_all_trip',\n",
       "       'start_day', 'start_month', 'start_hour', 'end_day', 'end_month',\n",
       "       'end_hour'],\n",
       "      dtype='object')"
      ]
     },
     "execution_count": 15,
     "metadata": {},
     "output_type": "execute_result"
    }
   ],
   "source": [
    "ford_bikes.columns"
   ]
  },
  {
   "cell_type": "markdown",
   "metadata": {},
   "source": [
    "# Questions"
   ]
  },
  {
   "cell_type": "markdown",
   "metadata": {},
   "source": [
    "### What is the structure of the dataset?\n",
    "\n",
    "- There are 183412 rows and 16 features ('duration_sec', 'start_time', 'end_time', 'start_station_id','start_station_name', 'start_station_latitude','start_station_longitude', 'end_station_id', 'end_station_name','end_station_latitude', 'end_station_longitude', 'bike_id', 'user_type','member_birth_year', 'member_gender', 'bike_share_for_all_trip')\n",
    "\n",
    "\n",
    "\n",
    "\n",
    "\n",
    "### What is/are the main feature(s) of interest?\n",
    "\n",
    " -  Average length of each trip\n",
    " -  Type of subscribers\n",
    " -  Gender of members or other variables and how they influence other variables\n",
    " \n",
    " \n",
    " \n",
    " ### What are features of the data set will help support your investigation with respect to the feature of interest.\n",
    "\n",
    "- From a glance, i see the gender, birth year, duration, time, and date as features that would uncover some insights on the process and the behaviour of users on the bike sharing system.\n",
    "\n"
   ]
  },
  {
   "cell_type": "markdown",
   "metadata": {},
   "source": [
    "# Univariate Exploration"
   ]
  },
  {
   "cell_type": "markdown",
   "metadata": {},
   "source": [
    "#### 1) What is the percentage of members that are registered on the Ford Bikers system?"
   ]
  },
  {
   "cell_type": "code",
   "execution_count": 16,
   "metadata": {},
   "outputs": [
    {
     "data": {
      "text/plain": [
       "Male      130500\n",
       "Female     40805\n",
       "Other       3647\n",
       "Name: member_gender, dtype: int64"
      ]
     },
     "execution_count": 16,
     "metadata": {},
     "output_type": "execute_result"
    }
   ],
   "source": [
    "ford_bikes['member_gender'].value_counts()"
   ]
  },
  {
   "cell_type": "code",
   "execution_count": 17,
   "metadata": {
    "scrolled": false
   },
   "outputs": [
    {
     "data": {
      "image/png": "[encoded data removed]",
      "text/plain": [
       "<matplotlib.figure.Figure at 0x7fd17cd65630>"
      ]
     },
     "metadata": {},
     "output_type": "display_data"
    }
   ],
   "source": [
    "gender = ford_bikes.member_gender.value_counts()\n",
    "gender.plot(kind='pie', figsize=(8,8), wedgeprops={'width':0.5}, autopct='%1.0f%%');\n",
    "plt.title('Percentage of the Gender of members of Ford Bikers', size=14);\n",
    "plt.legend(bbox_to_anchor=(1, 0.9), loc='upper left');"
   ]
  },
  {
   "cell_type": "markdown",
   "metadata": {},
   "source": [
    "#### 2) What is the number of different user types on the Ford Bikers system?"
   ]
  },
  {
   "cell_type": "code",
   "execution_count": 18,
   "metadata": {},
   "outputs": [
    {
     "data": {
      "text/plain": [
       "Subscriber    158386\n",
       "Customer       16566\n",
       "Name: user_type, dtype: int64"
      ]
     },
     "execution_count": 18,
     "metadata": {},
     "output_type": "execute_result"
    }
   ],
   "source": [
    "ford_bikes['user_type'].value_counts()"
   ]
  },
  {
   "cell_type": "code",
   "execution_count": 19,
   "metadata": {
    "scrolled": true
   },
   "outputs": [
    {
     "data": {
      "image/png": "[encoded data removed]",
      "text/plain": [
       "<matplotlib.figure.Figure at 0x7fd17cd58eb8>"
      ]
     },
     "metadata": {
      "needs_background": "light"
     },
     "output_type": "display_data"
    }
   ],
   "source": [
    "users = ford_bikes['user_type'].value_counts().index\n",
    "plt.figure(figsize=(10,5))\n",
    "sns.countplot(data=ford_bikes, x='user_type', color='grey')\n",
    "plt.ylabel('Count of user types')\n",
    "plt.xlabel('user_type')\n",
    "plt.title('Count of all user types in the Ford Bikers system');"
   ]
  },
  {
   "cell_type": "markdown",
   "metadata": {},
   "source": [
    "#### What is the distribution of the duration of each trip?"
   ]
  },
  {
   "cell_type": "code",
   "execution_count": 20,
   "metadata": {
    "scrolled": true
   },
   "outputs": [
    {
     "data": {
      "image/png": "[encoded data removed]",
      "text/plain": [
       "<matplotlib.figure.Figure at 0x7fd17ace9668>"
      ]
     },
     "metadata": {
      "needs_background": "light"
     },
     "output_type": "display_data"
    }
   ],
   "source": [
    "binsize = 50\n",
    "bins = np.arange(50, ford_bikes['duration_sec'].max()+binsize, binsize)\n",
    "\n",
    "plt.figure(figsize=[8, 5])\n",
    "plt.hist(data = ford_bikes, x = 'duration_sec', bins=bins)\n",
    "plt.xlabel('Duration (Sec)')\n",
    "plt.ylabel('Count')\n",
    "plt.title('Distribution of Trip duration');\n",
    "plt.xlim([0, 3000]);"
   ]
  },
  {
   "cell_type": "markdown",
   "metadata": {},
   "source": [
    "#### 3) What is the age distribution of Ford GoBike customer?"
   ]
  },
  {
   "cell_type": "code",
   "execution_count": 24,
   "metadata": {},
   "outputs": [
    {
     "ename": "AttributeError",
     "evalue": "Unknown property bins",
     "output_type": "error",
     "traceback": [
      "\u001b[0;31m---------------------------------------------------------------------------\u001b[0m",
      "\u001b[0;31mAttributeError\u001b[0m                            Traceback (most recent call last)",
      "\u001b[0;32m<ipython-input-24-c8cf5fa86a39>\u001b[0m in \u001b[0;36m<module>\u001b[0;34m()\u001b[0m\n\u001b[1;32m      1\u001b[0m sns.countplot(data = ford_bikes, \n\u001b[0;32m----> 2\u001b[0;31m             x = 'member_birth_year', bins=100).set(title='Age Distribution of year of birth of Ford GoBike Members');\n\u001b[0m",
      "\u001b[0;32m/opt/conda/lib/python3.6/site-packages/seaborn/categorical.py\u001b[0m in \u001b[0;36mcountplot\u001b[0;34m(x, y, hue, data, order, hue_order, orient, color, palette, saturation, dodge, ax, **kwargs)\u001b[0m\n\u001b[1;32m   3364\u001b[0m     \u001b[0;34m*\u001b[0m\u001b[0;34m,\u001b[0m\u001b[0;34m\u001b[0m\u001b[0m\n\u001b[1;32m   3365\u001b[0m     \u001b[0mx\u001b[0m\u001b[0;34m=\u001b[0m\u001b[0;32mNone\u001b[0m\u001b[0;34m,\u001b[0m \u001b[0my\u001b[0m\u001b[0;34m=\u001b[0m\u001b[0;32mNone\u001b[0m\u001b[0;34m,\u001b[0m\u001b[0;34m\u001b[0m\u001b[0m\n\u001b[0;32m-> 3366\u001b[0;31m     \u001b[0mhue\u001b[0m\u001b[0;34m=\u001b[0m\u001b[0;32mNone\u001b[0m\u001b[0;34m,\u001b[0m \u001b[0mdata\u001b[0m\u001b[0;34m=\u001b[0m\u001b[0;32mNone\u001b[0m\u001b[0;34m,\u001b[0m\u001b[0;34m\u001b[0m\u001b[0m\n\u001b[0m\u001b[1;32m   3367\u001b[0m     \u001b[0morder\u001b[0m\u001b[0;34m=\u001b[0m\u001b[0;32mNone\u001b[0m\u001b[0;34m,\u001b[0m \u001b[0mhue_order\u001b[0m\u001b[0;34m=\u001b[0m\u001b[0;32mNone\u001b[0m\u001b[0;34m,\u001b[0m\u001b[0;34m\u001b[0m\u001b[0m\n\u001b[1;32m   3368\u001b[0m     \u001b[0mestimator\u001b[0m\u001b[0;34m=\u001b[0m\u001b[0mnp\u001b[0m\u001b[0;34m.\u001b[0m\u001b[0mmean\u001b[0m\u001b[0;34m,\u001b[0m \u001b[0mci\u001b[0m\u001b[0;34m=\u001b[0m\u001b[0;36m95\u001b[0m\u001b[0;34m,\u001b[0m \u001b[0mn_boot\u001b[0m\u001b[0;34m=\u001b[0m\u001b[0;36m1000\u001b[0m\u001b[0;34m,\u001b[0m \u001b[0munits\u001b[0m\u001b[0;34m=\u001b[0m\u001b[0;32mNone\u001b[0m\u001b[0;34m,\u001b[0m \u001b[0mseed\u001b[0m\u001b[0;34m=\u001b[0m\u001b[0;32mNone\u001b[0m\u001b[0;34m,\u001b[0m\u001b[0;34m\u001b[0m\u001b[0m\n",
      "\u001b[0;32m/opt/conda/lib/python3.6/site-packages/seaborn/categorical.py\u001b[0m in \u001b[0;36mplot\u001b[0;34m(self, ax, bar_kws)\u001b[0m\n\u001b[1;32m   1648\u001b[0m \u001b[0;34m\u001b[0m\u001b[0m\n\u001b[1;32m   1649\u001b[0m     \u001b[0;34m\"\"\"Show point estimates and confidence intervals with (joined) points.\"\"\"\u001b[0m\u001b[0;34m\u001b[0m\u001b[0m\n\u001b[0;32m-> 1650\u001b[0;31m     def __init__(self, x, y, hue, data, order, hue_order,\n\u001b[0m\u001b[1;32m   1651\u001b[0m                  \u001b[0mestimator\u001b[0m\u001b[0;34m,\u001b[0m \u001b[0mci\u001b[0m\u001b[0;34m,\u001b[0m \u001b[0mn_boot\u001b[0m\u001b[0;34m,\u001b[0m \u001b[0munits\u001b[0m\u001b[0;34m,\u001b[0m \u001b[0mseed\u001b[0m\u001b[0;34m,\u001b[0m\u001b[0;34m\u001b[0m\u001b[0m\n\u001b[1;32m   1652\u001b[0m                  \u001b[0mmarkers\u001b[0m\u001b[0;34m,\u001b[0m \u001b[0mlinestyles\u001b[0m\u001b[0;34m,\u001b[0m \u001b[0mdodge\u001b[0m\u001b[0;34m,\u001b[0m \u001b[0mjoin\u001b[0m\u001b[0;34m,\u001b[0m \u001b[0mscale\u001b[0m\u001b[0;34m,\u001b[0m\u001b[0;34m\u001b[0m\u001b[0m\n",
      "\u001b[0;32m/opt/conda/lib/python3.6/site-packages/seaborn/categorical.py\u001b[0m in \u001b[0;36mdraw_bars\u001b[0;34m(self, ax, kws)\u001b[0m\n\u001b[1;32m   1614\u001b[0m                                self.capsize)\n\u001b[1;32m   1615\u001b[0m \u001b[0;34m\u001b[0m\u001b[0m\n\u001b[0;32m-> 1616\u001b[0;31m         \u001b[0;32melse\u001b[0m\u001b[0;34m:\u001b[0m\u001b[0;34m\u001b[0m\u001b[0m\n\u001b[0m\u001b[1;32m   1617\u001b[0m \u001b[0;34m\u001b[0m\u001b[0m\n\u001b[1;32m   1618\u001b[0m             \u001b[0;32mfor\u001b[0m \u001b[0mj\u001b[0m\u001b[0;34m,\u001b[0m \u001b[0mhue_level\u001b[0m \u001b[0;32min\u001b[0m \u001b[0menumerate\u001b[0m\u001b[0;34m(\u001b[0m\u001b[0mself\u001b[0m\u001b[0;34m.\u001b[0m\u001b[0mhue_names\u001b[0m\u001b[0;34m)\u001b[0m\u001b[0;34m:\u001b[0m\u001b[0;34m\u001b[0m\u001b[0m\n",
      "\u001b[0;32m/opt/conda/lib/python3.6/site-packages/matplotlib/__init__.py\u001b[0m in \u001b[0;36minner\u001b[0;34m(ax, *args, **kwargs)\u001b[0m\n",
      "\u001b[0;32m/opt/conda/lib/python3.6/site-packages/matplotlib/axes/_axes.py\u001b[0m in \u001b[0;36mbar\u001b[0;34m(self, *args, **kwargs)\u001b[0m\n\u001b[1;32m   2148\u001b[0m         \"\"\"\n\u001b[1;32m   2149\u001b[0m         \u001b[0mMake\u001b[0m \u001b[0ma\u001b[0m \u001b[0mstep\u001b[0m \u001b[0mplot\u001b[0m\u001b[0;34m.\u001b[0m\u001b[0;34m\u001b[0m\u001b[0m\n\u001b[0;32m-> 2150\u001b[0;31m \u001b[0;34m\u001b[0m\u001b[0m\n\u001b[0m\u001b[1;32m   2151\u001b[0m         \u001b[0mCall\u001b[0m \u001b[0msignatures\u001b[0m\u001b[0;34m:\u001b[0m\u001b[0;34m:\u001b[0m\u001b[0;34m\u001b[0m\u001b[0m\n\u001b[1;32m   2152\u001b[0m \u001b[0;34m\u001b[0m\u001b[0m\n",
      "\u001b[0;32m/opt/conda/lib/python3.6/site-packages/matplotlib/artist.py\u001b[0m in \u001b[0;36mupdate\u001b[0;34m(self, props)\u001b[0m\n\u001b[1;32m    845\u001b[0m         \u001b[0;31m# This may result in the callbacks being hit twice, but ensures they\u001b[0m\u001b[0;34m\u001b[0m\u001b[0;34m\u001b[0m\u001b[0m\n\u001b[1;32m    846\u001b[0m         \u001b[0;31m# are hit at least once\u001b[0m\u001b[0;34m\u001b[0m\u001b[0;34m\u001b[0m\u001b[0m\n\u001b[0;32m--> 847\u001b[0;31m         \u001b[0mself\u001b[0m\u001b[0;34m.\u001b[0m\u001b[0mpchanged\u001b[0m\u001b[0;34m(\u001b[0m\u001b[0;34m)\u001b[0m\u001b[0;34m\u001b[0m\u001b[0m\n\u001b[0m\u001b[1;32m    848\u001b[0m         \u001b[0mself\u001b[0m\u001b[0;34m.\u001b[0m\u001b[0mstale\u001b[0m \u001b[0;34m=\u001b[0m \u001b[0;32mTrue\u001b[0m\u001b[0;34m\u001b[0m\u001b[0m\n\u001b[1;32m    849\u001b[0m \u001b[0;34m\u001b[0m\u001b[0m\n",
      "\u001b[0;32m/opt/conda/lib/python3.6/site-packages/matplotlib/artist.py\u001b[0m in \u001b[0;36m<listcomp>\u001b[0;34m(.0)\u001b[0m\n\u001b[1;32m    845\u001b[0m         \u001b[0;31m# This may result in the callbacks being hit twice, but ensures they\u001b[0m\u001b[0;34m\u001b[0m\u001b[0;34m\u001b[0m\u001b[0m\n\u001b[1;32m    846\u001b[0m         \u001b[0;31m# are hit at least once\u001b[0m\u001b[0;34m\u001b[0m\u001b[0;34m\u001b[0m\u001b[0m\n\u001b[0;32m--> 847\u001b[0;31m         \u001b[0mself\u001b[0m\u001b[0;34m.\u001b[0m\u001b[0mpchanged\u001b[0m\u001b[0;34m(\u001b[0m\u001b[0;34m)\u001b[0m\u001b[0;34m\u001b[0m\u001b[0m\n\u001b[0m\u001b[1;32m    848\u001b[0m         \u001b[0mself\u001b[0m\u001b[0;34m.\u001b[0m\u001b[0mstale\u001b[0m \u001b[0;34m=\u001b[0m \u001b[0;32mTrue\u001b[0m\u001b[0;34m\u001b[0m\u001b[0m\n\u001b[1;32m    849\u001b[0m \u001b[0;34m\u001b[0m\u001b[0m\n",
      "\u001b[0;32m/opt/conda/lib/python3.6/site-packages/matplotlib/artist.py\u001b[0m in \u001b[0;36m_update_property\u001b[0;34m(self, k, v)\u001b[0m\n\u001b[1;32m    838\u001b[0m         \u001b[0mcan\u001b[0m \u001b[0mlead\u001b[0m \u001b[0mto\u001b[0m \u001b[0munexpected\u001b[0m \u001b[0mresults\u001b[0m\u001b[0;34m.\u001b[0m\u001b[0;34m\u001b[0m\u001b[0m\n\u001b[1;32m    839\u001b[0m \u001b[0;34m\u001b[0m\u001b[0m\n\u001b[0;32m--> 840\u001b[0;31m         \u001b[0mParameters\u001b[0m\u001b[0;34m\u001b[0m\u001b[0m\n\u001b[0m\u001b[1;32m    841\u001b[0m         \u001b[0;34m-\u001b[0m\u001b[0;34m-\u001b[0m\u001b[0;34m-\u001b[0m\u001b[0;34m-\u001b[0m\u001b[0;34m-\u001b[0m\u001b[0;34m-\u001b[0m\u001b[0;34m-\u001b[0m\u001b[0;34m-\u001b[0m\u001b[0;34m-\u001b[0m\u001b[0;34m-\u001b[0m\u001b[0;34m\u001b[0m\u001b[0m\n\u001b[1;32m    842\u001b[0m         \u001b[0mb\u001b[0m \u001b[0;34m:\u001b[0m \u001b[0mbool\u001b[0m\u001b[0;34m\u001b[0m\u001b[0m\n",
      "\u001b[0;31mAttributeError\u001b[0m: Unknown property bins"
     ]
    },
    {
     "data": {
      "image/png": "[encoded data removed]",
      "text/plain": [
       "<matplotlib.figure.Figure at 0x7fd177a6fc18>"
      ]
     },
     "metadata": {
      "needs_background": "light"
     },
     "output_type": "display_data"
    }
   ],
   "source": [
    "sns.displot(data = ford_bikes, \n",
    "            x = 'member_birth_year', kde=True, bins=100).set(title='Age Distribution of year of birth of Ford GoBike Members');\n"
   ]
  },
  {
   "cell_type": "markdown",
   "metadata": {},
   "source": [
    "### The member birth year gives us an idea of the distribution but not very intuitive, we convert to age"
   ]
  },
  {
   "cell_type": "code",
   "execution_count": null,
   "metadata": {},
   "outputs": [],
   "source": [
    "# Plot a new viz of age distribution from Members Year of Birth Column\n",
    "\n",
    "binsize = 1\n",
    "bins = np.arange(0, ford_bikes['member_birth_year'].astype(float).max()+binsize, binsize)\n",
    "\n",
    "plt.figure(figsize=[8, 5])\n",
    "plt.hist(data = ford_bikes, x = 'member_birth_year', bins = bins);\n",
    "plt.axis([1939, 2009, 0, 11000])\n",
    "plt.xticks([1939, 1949, 1959, 1969, 1979, 1989, 1999, 2009], [(2019-1939), (2019-1949), (2019-1959), (2019-1969), (2019-1979), (2019-1989), (2019-1999), (2019-2009)])\n",
    "plt.gca().invert_xaxis()\n",
    "plt.xlabel('Age (in years)')\n",
    "plt.ylabel('Count of Users')\n",
    "plt.title('Age distribution of Ford GoBike Members');"
   ]
  },
  {
   "cell_type": "markdown",
   "metadata": {},
   "source": [
    "#### We see a distribution slighly skewed to the right with alot of observations within ages 19-45 for the members."
   ]
  },
  {
   "cell_type": "markdown",
   "metadata": {},
   "source": [
    "#### 4) How is the data of Members distributed with respect to time (day, month, year)"
   ]
  },
  {
   "cell_type": "code",
   "execution_count": null,
   "metadata": {},
   "outputs": [],
   "source": [
    "# convert day, and hour into ordered categorical types\n",
    "ordinal_dict = {'start_day': ['Monday','Tuesday','Wednesday','Thursday','Friday', 'Saturday', 'Sunday'],\n",
    "                    'end_day': ['Monday','Tuesday','Wednesday','Thursday','Friday', 'Saturday', 'Sunday'],\n",
    "                   'start_hour': [str(x) for x in range(0,24)],\n",
    "                   'end_hour': [str(x) for x in range(0,24)]}\n",
    "\n",
    "for var in ordinal_dict:\n",
    "    ordered_var = pd.api.types.CategoricalDtype(ordered = True,\n",
    "                                                categories = ordinal_dict[var])\n",
    "    ford_bikes[var] = ford_bikes[var].astype(ordered_var)"
   ]
  },
  {
   "cell_type": "code",
   "execution_count": null,
   "metadata": {},
   "outputs": [],
   "source": [
    "plt.figure(figsize=(10,5))\n",
    "sns.countplot(data=ford_bikes, x='start_hour', color='lightblue')\n",
    "plt.ylabel('Count')\n",
    "plt.xlabel('Start hour of trip')\n",
    "plt.title('Vizualization of the count of Start hour of trips');\n",
    "\n",
    "\n",
    "plt.figure(figsize=(10,5))\n",
    "sns.countplot(data=ford_bikes, x='end_hour', color='grey')\n",
    "plt.ylabel('Count')\n",
    "plt.xlabel('End hour of trip')\n",
    "plt.title('Vizualization of the count of End hour of trips');"
   ]
  },
  {
   "cell_type": "markdown",
   "metadata": {},
   "source": [
    "#### Insights\n",
    "\n",
    "- We see rising trends for start and end hours between 6th to 9th hour (6am - 9am) and between 16th & 21st hour (4pm and 7pm). This might be because people are commuting to and back from work or businesses during these times\n",
    "\n",
    "- The lowest trend is between 0hr to 5hrs (12midnight - 5am). This are typically sleeping hours."
   ]
  },
  {
   "cell_type": "markdown",
   "metadata": {},
   "source": [
    "#### 5) What day of the week has the highest start and end trips by members"
   ]
  },
  {
   "cell_type": "code",
   "execution_count": null,
   "metadata": {},
   "outputs": [],
   "source": [
    "plt.figure(figsize=(10,5))\n",
    "sns.countplot(data=ford_bikes, x='start_day', color='lightgreen')\n",
    "plt.ylabel('Count')\n",
    "plt.xlabel('Start day of trip')\n",
    "plt.title('Vizualization of Start day for trips in a week');\n",
    "\n",
    "\n",
    "plt.figure(figsize=(10,5))\n",
    "sns.countplot(data=ford_bikes, x='end_day', color='grey')\n",
    "plt.ylabel('Count')\n",
    "plt.xlabel('End day of trip')\n",
    "plt.title('Vizualization of End day for trips in a week');"
   ]
  },
  {
   "cell_type": "markdown",
   "metadata": {},
   "source": [
    "#### Insights \n",
    "\n",
    " - We observe Tuesdays and Thursdays are the highest days for trips to begin and end... \n",
    " - Saturdays and Sundays are the least days for both perhaps because there's less commuting since it is a weekend.\n"
   ]
  },
  {
   "cell_type": "markdown",
   "metadata": {},
   "source": [
    "#### 6) What is the frequency of riders who share rides on different trips"
   ]
  },
  {
   "cell_type": "code",
   "execution_count": null,
   "metadata": {},
   "outputs": [],
   "source": [
    "sharing = ford_bikes.bike_share_for_all_trip.value_counts()\n",
    "sharing.plot(kind='pie', figsize=(8,8), wedgeprops={'width':0.3}, autopct='%1.0f%%');\n",
    "plt.title('Percentage of the riders who share bikes for all trips', size=14);\n",
    "plt.legend(bbox_to_anchor=(1, 0.9), loc='upper left');\n"
   ]
  },
  {
   "cell_type": "markdown",
   "metadata": {},
   "source": [
    "# Bivariate Exploration"
   ]
  },
  {
   "cell_type": "markdown",
   "metadata": {},
   "source": [
    "#### 7) What is the relationship between member gender and the length of their travels?"
   ]
  },
  {
   "cell_type": "code",
   "execution_count": null,
   "metadata": {},
   "outputs": [],
   "source": [
    "plt.figure(figsize=(12,8))\n",
    "plt.title('Duration of trips by Gender of Members')\n",
    "sns.boxplot(data=ford_bikes, x = 'member_gender', y='duration_sec', color = base_color);"
   ]
  },
  {
   "cell_type": "code",
   "execution_count": null,
   "metadata": {},
   "outputs": [],
   "source": [
    "# We reduce the max limit of y-axis to see the distinction in the visualization\n",
    "\n",
    "plt.figure(figsize=(12,8))\n",
    "base_color = sns.color_palette()[1]\n",
    "plt.ylim([-10, 1500])\n",
    "plt.xlabel('Gender of Members')\n",
    "plt.ylabel('Duration (sec)')\n",
    "sns.boxplot(data=ford_bikes, x = 'member_gender', y='duration_sec', color = base_color);"
   ]
  },
  {
   "cell_type": "markdown",
   "metadata": {},
   "source": [
    "##### We see that Female/Other Gender travel longer trips than Male members."
   ]
  },
  {
   "cell_type": "markdown",
   "metadata": {},
   "source": [
    "#### 8) How does travel duration vary between user types"
   ]
  },
  {
   "cell_type": "code",
   "execution_count": null,
   "metadata": {},
   "outputs": [],
   "source": [
    "plt.figure(figsize=(12,8))\n",
    "base_color = sns.color_palette()[1]\n",
    "plt.ylim([-10, 2000])\n",
    "plt.xlabel('User Type')\n",
    "plt.ylabel('Duration in (sec)')\n",
    "sns.boxplot(data=ford_bikes, x = 'user_type', y='duration_sec', color = base_color);"
   ]
  },
  {
   "cell_type": "markdown",
   "metadata": {},
   "source": [
    "#### We observe that the \"Customer\" User type category take longer trips than the \"subscriber\" type."
   ]
  },
  {
   "cell_type": "markdown",
   "metadata": {},
   "source": [
    "#### 9) What is the relationship between user type and member's gender?"
   ]
  },
  {
   "cell_type": "code",
   "execution_count": null,
   "metadata": {},
   "outputs": [],
   "source": [
    "plt.figure(figsize = [8, 8])\n",
    "plt.title('Number of each gender that are subscribed to different user type plans')\n",
    "sns.countplot(data = ford_bikes, x = 'user_type', hue = 'member_gender')\n",
    "plt.legend(bbox_to_anchor=(1, 0.9), loc='upper left');\n",
    "plt.show()"
   ]
  },
  {
   "cell_type": "markdown",
   "metadata": {},
   "source": [
    "#### 15) What is the correlation relationship of the numeric variables?"
   ]
  },
  {
   "cell_type": "code",
   "execution_count": null,
   "metadata": {
    "scrolled": true
   },
   "outputs": [],
   "source": [
    "plt.figure(figsize=(14,5))\n",
    "sns.heatmap(ford_bikes.corr(), annot=True);"
   ]
  },
  {
   "cell_type": "markdown",
   "metadata": {},
   "source": [
    "#### The columns worthy of comparisons are duration time and birth year and we see there's no correlation between them."
   ]
  },
  {
   "cell_type": "markdown",
   "metadata": {},
   "source": [
    "#### 10) What is the count of different User types who share bikes for all trips?"
   ]
  },
  {
   "cell_type": "code",
   "execution_count": null,
   "metadata": {},
   "outputs": [],
   "source": [
    "plt.figure(figsize = [8, 8])\n",
    "sns.countplot(data = ford_bikes, x = 'user_type', hue = 'bike_share_for_all_trip', \n",
    "              order=ford_bikes.user_type.value_counts().index,\n",
    "             palette = 'Greens')\n",
    "plt.title(\"User type of users who share their bike for all rides\")\n",
    "plt.legend(bbox_to_anchor=(1, 0.9), loc='upper left');"
   ]
  },
  {
   "cell_type": "markdown",
   "metadata": {},
   "source": [
    "#### Only Subscribers seem to share bikes for all trips"
   ]
  },
  {
   "cell_type": "markdown",
   "metadata": {},
   "source": [
    "#### 11) How does the user type riders vary within each day?"
   ]
  },
  {
   "cell_type": "code",
   "execution_count": null,
   "metadata": {},
   "outputs": [],
   "source": [
    "plt.figure(figsize = [8, 8])\n",
    "sns.countplot(data = ford_bikes, x = 'start_day', hue = 'user_type', palette = 'Oranges');\n",
    "plt.title(\"Distribution of User type daily\")\n",
    "plt.legend(bbox_to_anchor=(1, 0.9), loc='upper left');\n",
    "plt.xticks(rotation=25);"
   ]
  },
  {
   "cell_type": "markdown",
   "metadata": {},
   "source": [
    "#### There are more Subscribers than Customers on every day of the week; there are more Subscribers taking trips on Thursdays."
   ]
  },
  {
   "cell_type": "markdown",
   "metadata": {},
   "source": [
    "# Multivariate Exploration"
   ]
  },
  {
   "cell_type": "markdown",
   "metadata": {},
   "source": [
    "#### 12) What is the duration of trips daily across gender?"
   ]
  },
  {
   "cell_type": "code",
   "execution_count": null,
   "metadata": {},
   "outputs": [],
   "source": [
    "plt.figure(figsize=(15,6))\n",
    "plt.title('Duration times for trips by each gender')\n",
    "sns.barplot(data=ford_bikes, y = 'duration_sec', x='start_day', hue = 'member_gender', ci=None, palette = 'Blues');"
   ]
  },
  {
   "cell_type": "markdown",
   "metadata": {},
   "source": [
    "#### 13) What is the duration of trips daily across user type?"
   ]
  },
  {
   "cell_type": "code",
   "execution_count": null,
   "metadata": {},
   "outputs": [],
   "source": [
    "plt.figure(figsize=(15,6))\n",
    "plt.title('Duration times for trips by each User')\n",
    "sns.pointplot(data=ford_bikes, y = 'duration_sec', x='start_day', hue = 'user_type', \n",
    "            dodge = 0.4, ci=None, palette = 'inferno_r');"
   ]
  },
  {
   "cell_type": "markdown",
   "metadata": {},
   "source": [
    "#### We observe that Customer type travel longer durations than Subscribers. The Customer members travel longer during weekends while the trend is relatively flat for subscriber type"
   ]
  },
  {
   "cell_type": "markdown",
   "metadata": {},
   "source": [
    "#### 14) What is the relationship between travel time and gender who share bikes for all their trips?"
   ]
  },
  {
   "cell_type": "code",
   "execution_count": null,
   "metadata": {},
   "outputs": [],
   "source": [
    "fig = plt.figure(figsize = [8,6])\n",
    "ax = sns.pointplot(data = ford_bikes, hue ='member_gender', y = 'duration_sec', x = 'bike_share_for_all_trip',\n",
    "           palette = 'Reds', linestyles = '', dodge = 0.4)\n",
    "plt.title('Trip Duration across gender and bike_share_for_all_trip')\n",
    "plt.ylabel('Average Trip Duration (Secs)')\n",
    "ax.set_yticklabels([],minor = True)\n",
    "plt.show();"
   ]
  },
  {
   "cell_type": "markdown",
   "metadata": {},
   "source": [
    "##### Members who share bikes for all trips are mostly \"Other\" genders and equally travel longer."
   ]
  },
  {
   "cell_type": "markdown",
   "metadata": {},
   "source": [
    "# Conclusion\n",
    "\n",
    "\n",
    "- The dataset is for the months of February and March 2019\n",
    "- The mean duration for the trips is 726 seconds\n",
    "- The ford bikers users contain 75% male, 23% female, 2% others\n",
    "- The weekends have the least trips for starting and ending\n",
    "- The user type shows two categories: Subscriber 158386 members and Customer 16566 members.\n",
    "- The most prominent members fall within ages 19-45 for the members\n",
    "- Trip durations on weekends are longer than on weekdays.\n",
    "- Peak periods are between 6th to 9th hour (6am - 9am) and between 16th & 21st hour (4pm and 7pm). \n",
    "- The lowest trip periods is between 0hr to 5hrs (12midnight - 5am)\n",
    "- Only 10% of users share bikes for all trips.\n",
    "- Only subscribers have records of shared trips\n",
    "- Customer take longer times than Subscribers\n",
    "- There are more males as both Customer and Subscriber user type than other genders.\n",
    "- The gender of entries as \"others\" travel longer times than male and females.\n",
    "- There are more Subscribers than Customers on every day of the week; there are more Subscribers taking trips on Thursdays.\n"
   ]
  },
  {
   "cell_type": "code",
   "execution_count": null,
   "metadata": {},
   "outputs": [],
   "source": [
    "from subprocess import call\n",
    "call(['python', '-m', 'nbconvert', 'Ford GoBike System Data Part 1.ipynb'])"
   ]
  }
 ],
 "metadata": {
  "kernelspec": {
   "display_name": "Python 3",
   "language": "python",
   "name": "python3"
  },
  "language_info": {
   "codemirror_mode": {
    "name": "ipython",
    "version": 3
   },
   "file_extension": ".py",
   "mimetype": "text/x-python",
   "name": "python",
   "nbconvert_exporter": "python",
   "pygments_lexer": "ipython3",
   "version": "3.6.3"
  }
 },
 "nbformat": 4,
 "nbformat_minor": 5
}
